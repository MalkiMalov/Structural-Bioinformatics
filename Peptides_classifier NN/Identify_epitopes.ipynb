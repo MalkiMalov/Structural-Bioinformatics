{
  "nbformat": 4,
  "nbformat_minor": 0,
  "metadata": {
    "colab": {
      "name": "Identify epitopes.ipynb",
      "provenance": [],
      "collapsed_sections": []
    },
    "kernelspec": {
      "name": "python3",
      "display_name": "Python 3"
    },
    "language_info": {
      "name": "python"
    }
  },
  "cells": [
    {
      "cell_type": "code",
      "execution_count": null,
      "metadata": {
        "id": "qMZ7683MSie6"
      },
      "outputs": [],
      "source": [
        "import pandas as pd\n",
        "import numpy as np\n",
        "from sklearn.utils import shuffle\n"
      ]
    },
    {
      "cell_type": "markdown",
      "source": [
        "Data prepartion"
      ],
      "metadata": {
        "id": "YUWPwftdUfxl"
      }
    },
    {
      "cell_type": "code",
      "source": [
        "\n",
        "pos_dir='/content/drive/MyDrive/ביואינפורמטיקה/שנה ג/ביואינפורמטיקה מבנית/HW4- epitopes/pos_A0201.txt'\n",
        "neg_dir='/content/drive/MyDrive/ביואינפורמטיקה/שנה ג/ביואינפורמטיקה מבנית/HW4- epitopes/neg_A0201.txt'\n",
        "\n",
        "pos_data=pd.read_csv(pos_dir, sep=' ', header=None)\n",
        "pos_data['class']=np.ones(len(pos_data)) #add the class column\n",
        "\n",
        "neg_data=pd.read_csv(neg_dir, sep=' ', header=None)\n",
        "neg_data['class']=np.zeros(len(neg_data)) #add the class column\n",
        "\n",
        "all_data= pd.concat([pos_data, neg_data]) #join the tables\n",
        "\n",
        "all_data=all_data.sample(frac=1).reset_index(drop=True) #shuffle the data\n",
        "\n",
        "features=all_data[0]\n",
        "clss=all_data['class']\n",
        "\n",
        "\n",
        "print(features)"
      ],
      "metadata": {
        "colab": {
          "base_uri": "https://localhost:8080/"
        },
        "id": "t_0LDSzAS4RO",
        "outputId": "3cb66487-ca13-4d7e-9de6-eb34badbfdba"
      },
      "execution_count": null,
      "outputs": [
        {
          "output_type": "stream",
          "name": "stdout",
          "text": [
            "0        RPVRGPLLR\n",
            "1        EQMGQMLTR\n",
            "2        RLFENLRML\n",
            "3        RIKPIYNLY\n",
            "4        FVIHDMETL\n",
            "           ...    \n",
            "27478    AVIQVGKEK\n",
            "27479    EAFQTTISK\n",
            "27480    VLSEQQNGL\n",
            "27481    TTNDIVISK\n",
            "27482    SLLRHLEKV\n",
            "Name: 0, Length: 27483, dtype: object\n"
          ]
        }
      ]
    },
    {
      "cell_type": "markdown",
      "source": [
        "Split the sequence to amino acids"
      ],
      "metadata": {
        "id": "xX7jRohTUPOl"
      }
    },
    {
      "cell_type": "code",
      "source": [
        "features=features.str.split('',n=9, expand=True) \n",
        "features=features.drop(0,axis=1)\n",
        "print(features)"
      ],
      "metadata": {
        "colab": {
          "base_uri": "https://localhost:8080/"
        },
        "id": "B8ld-RG6UAP3",
        "outputId": "d54089d0-a740-4c62-e608-7607a33b1041"
      },
      "execution_count": null,
      "outputs": [
        {
          "output_type": "stream",
          "name": "stdout",
          "text": [
            "       1  2  3  4  5  6  7  8  9\n",
            "0      R  P  V  R  G  P  L  L  R\n",
            "1      E  Q  M  G  Q  M  L  T  R\n",
            "2      R  L  F  E  N  L  R  M  L\n",
            "3      R  I  K  P  I  Y  N  L  Y\n",
            "4      F  V  I  H  D  M  E  T  L\n",
            "...   .. .. .. .. .. .. .. .. ..\n",
            "27478  A  V  I  Q  V  G  K  E  K\n",
            "27479  E  A  F  Q  T  T  I  S  K\n",
            "27480  V  L  S  E  Q  Q  N  G  L\n",
            "27481  T  T  N  D  I  V  I  S  K\n",
            "27482  S  L  L  R  H  L  E  K  V\n",
            "\n",
            "[27483 rows x 9 columns]\n"
          ]
        }
      ]
    },
    {
      "cell_type": "markdown",
      "source": [
        "Transpormation to numeric data"
      ],
      "metadata": {
        "id": "O73HSiMjx5Rz"
      }
    },
    {
      "cell_type": "code",
      "source": [
        "from sklearn.preprocessing import OneHotEncoder\n",
        "\n",
        "ohe=OneHotEncoder(sparse=False)\n",
        "num_features=ohe.fit_transform(features)\n",
        "num_features=pd.DataFrame(num_features)  \n",
        "print(num_features.shape)"
      ],
      "metadata": {
        "colab": {
          "base_uri": "https://localhost:8080/"
        },
        "id": "7vqzQgY6wa-t",
        "outputId": "136787b3-e719-4b61-864d-91fbc2592d0a"
      },
      "execution_count": null,
      "outputs": [
        {
          "output_type": "stream",
          "name": "stdout",
          "text": [
            "(27483, 180)\n"
          ]
        }
      ]
    },
    {
      "cell_type": "markdown",
      "source": [
        "Train-set and test-set splitting"
      ],
      "metadata": {
        "id": "bZHSUIC3UYpG"
      }
    },
    {
      "cell_type": "code",
      "source": [
        "from sklearn.model_selection import train_test_split\n",
        "\n",
        "train_features, test_features = train_test_split(num_features, test_size=0.2, shuffle=False)\n",
        "train_class, test_class=train_test_split(clss, test_size=0.2, shuffle=False)\n",
        "\n",
        "print(train_features.shape)"
      ],
      "metadata": {
        "colab": {
          "base_uri": "https://localhost:8080/"
        },
        "id": "DVDdfLJdx4Xw",
        "outputId": "94bc2718-8a71-4bee-f456-5dea2b5e9e9f"
      },
      "execution_count": null,
      "outputs": [
        {
          "output_type": "stream",
          "name": "stdout",
          "text": [
            "(21986, 180)\n"
          ]
        }
      ]
    },
    {
      "cell_type": "markdown",
      "source": [
        "Balance the groups"
      ],
      "metadata": {
        "id": "xF2awe-uUd-S"
      }
    },
    {
      "cell_type": "code",
      "source": [
        "from imblearn.over_sampling import RandomOverSampler \n",
        "\n",
        "ros = RandomOverSampler(sampling_strategy='minority')\n",
        "features_resampled, class_resampled = ros.fit_resample(train_features, train_class)\n",
        "\n",
        "print(features_resampled.shape)"
      ],
      "metadata": {
        "colab": {
          "base_uri": "https://localhost:8080/"
        },
        "id": "YsWpGXid0JV9",
        "outputId": "08c85663-f401-4193-f559-81ce1f381f05"
      },
      "execution_count": null,
      "outputs": [
        {
          "output_type": "stream",
          "name": "stdout",
          "text": [
            "(39106, 180)\n"
          ]
        }
      ]
    },
    {
      "cell_type": "markdown",
      "source": [
        "Build and fit the NN"
      ],
      "metadata": {
        "id": "K9yRz_0aUl-3"
      }
    },
    {
      "cell_type": "code",
      "source": [
        "from sklearn.neural_network import MLPClassifier\n",
        "from sklearn.metrics import classification_report\n",
        "\n",
        "\n",
        "clf = MLPClassifier(hidden_layer_sizes=(36,36,10),\n",
        "                    activation='tanh',\n",
        "                    solver='sgd',\n",
        "                    alpha=0.01,\n",
        "                    learning_rate='adaptive',\n",
        "                    early_stopping=True,\n",
        "                    validation_fraction=0.25,\n",
        "                    )\n",
        "\n",
        "clf.fit(features_resampled, class_resampled)\n",
        "\n"
      ],
      "metadata": {
        "colab": {
          "base_uri": "https://localhost:8080/"
        },
        "id": "yNBPhnYU1w3L",
        "outputId": "8f700896-d7f1-4d08-d390-1495d9d166e3"
      },
      "execution_count": null,
      "outputs": [
        {
          "output_type": "stream",
          "name": "stderr",
          "text": [
            "/usr/local/lib/python3.7/dist-packages/sklearn/neural_network/_multilayer_perceptron.py:696: ConvergenceWarning: Stochastic Optimizer: Maximum iterations (200) reached and the optimization hasn't converged yet.\n",
            "  ConvergenceWarning,\n"
          ]
        },
        {
          "output_type": "execute_result",
          "data": {
            "text/plain": [
              "MLPClassifier(activation='tanh', alpha=0.01, early_stopping=True,\n",
              "              hidden_layer_sizes=(36, 36, 10), learning_rate='adaptive',\n",
              "              solver='sgd', validation_fraction=0.25)"
            ]
          },
          "metadata": {},
          "execution_count": 34
        }
      ]
    },
    {
      "cell_type": "markdown",
      "source": [
        "Scores"
      ],
      "metadata": {
        "id": "vwkF9vGvUrD_"
      }
    },
    {
      "cell_type": "code",
      "source": [
        "print(clf.score(test_features, test_class))\n",
        "pred_test_class=clf.predict(test_features)\n",
        "print(classification_report(test_class, pred_test_class))"
      ],
      "metadata": {
        "colab": {
          "base_uri": "https://localhost:8080/"
        },
        "id": "GYP5l-gu37aX",
        "outputId": "bd3099dc-9f74-432e-ed5e-cf32c625cc97"
      },
      "execution_count": null,
      "outputs": [
        {
          "output_type": "stream",
          "name": "stdout",
          "text": [
            "0.8732035655812261\n",
            "              precision    recall  f1-score   support\n",
            "\n",
            "         0.0       0.99      0.87      0.92      4939\n",
            "         1.0       0.44      0.92      0.60       558\n",
            "\n",
            "    accuracy                           0.87      5497\n",
            "   macro avg       0.72      0.90      0.76      5497\n",
            "weighted avg       0.93      0.87      0.89      5497\n",
            "\n"
          ]
        }
      ]
    }
  ]
}