{
  "nbformat": 4,
  "nbformat_minor": 0,
  "metadata": {
    "colab": {
      "name": "PI_Calculation.ipynb",
      "provenance": [],
      "collapsed_sections": []
    },
    "kernelspec": {
      "name": "python3",
      "display_name": "Python 3"
    },
    "language_info": {
      "name": "python"
    }
  },
  "cells": [
    {
      "cell_type": "markdown",
      "source": [
        "~Malki Malov\n",
        "322379876"
      ],
      "metadata": {
        "id": "6cSRSP6AWopr"
      }
    },
    {
      "cell_type": "code",
      "source": [
        "from google.colab import drive\n",
        "drive.mount('/content/drive')"
      ],
      "metadata": {
        "colab": {
          "base_uri": "https://localhost:8080/"
        },
        "id": "r9cSmG1Fp4rv",
        "outputId": "f1ad6214-c787-4316-b113-360d787037ce"
      },
      "execution_count": null,
      "outputs": [
        {
          "output_type": "stream",
          "name": "stdout",
          "text": [
            "Mounted at /content/drive\n"
          ]
        }
      ]
    },
    {
      "cell_type": "markdown",
      "source": [
        "Import libraries and open files:\n"
      ],
      "metadata": {
        "id": "tQ-w0LfrIph8"
      }
    },
    {
      "cell_type": "code",
      "source": [
        "\n",
        "!pip install biopython\n",
        "from Bio import SeqIO\n",
        "from Bio.SeqUtils.ProtParam import ProteinAnalysis\n",
        "import numpy\n",
        "from google.colab import drive\n",
        "import matplotlib.pyplot as plt\n",
        "import pandas as pd\n",
        "\n",
        "partA_file_path=\"/content/drive/MyDrive/ביואינפורמטיקה/שנה ג/ביואינפורמטיקה מבנית/HW1/protSeq.txt\"\n",
        "partB_file_path=\"/content/drive/MyDrive/ביואינפורמטיקה/שנה ג/ביואינפורמטיקה מבנית/HW1/uniprot_sprot.fasta\"\n",
        "\n"
      ],
      "metadata": {
        "id": "teAqm5jHWl6v",
        "colab": {
          "base_uri": "https://localhost:8080/"
        },
        "outputId": "67e5af00-24e3-43e5-f471-51924c7dda66"
      },
      "execution_count": null,
      "outputs": [
        {
          "output_type": "stream",
          "name": "stdout",
          "text": [
            "Collecting biopython\n",
            "  Downloading biopython-1.79-cp37-cp37m-manylinux_2_5_x86_64.manylinux1_x86_64.whl (2.3 MB)\n",
            "\u001b[K     |████████████████████████████████| 2.3 MB 6.4 MB/s \n",
            "\u001b[?25hRequirement already satisfied: numpy in /usr/local/lib/python3.7/dist-packages (from biopython) (1.21.5)\n",
            "Installing collected packages: biopython\n",
            "\u001b[31mERROR: Operation cancelled by user\u001b[0m\n"
          ]
        }
      ]
    },
    {
      "cell_type": "markdown",
      "source": [
        "#Part A"
      ],
      "metadata": {
        "id": "Au9G7jaPWxSR"
      }
    },
    {
      "cell_type": "code",
      "execution_count": null,
      "metadata": {
        "id": "kl3wAx9SV4rL"
      },
      "outputs": [],
      "source": [
        "class seq():\n",
        "  'The class provide some analysis for a protein sequence and contains 3 methods: PI, mass, numRes'\n",
        "  def __init__(self, seq):\n",
        "    self.protein_seq=seq.upper()\n",
        "\n",
        "  def __str__(self):\n",
        "    PI=self.PI()\n",
        "    mass=self.mass()\n",
        "    numRes=self.numRes()\n",
        "    return \"Sequence: %s \\n\\\n",
        "    PI: %.1f \\n\\\n",
        "    Mass: %d \\n\\\n",
        "    Number of Residues: %d \\n \"\\\n",
        "    % (self.protein_seq, PI, mass, numRes)\n",
        "\n",
        "  def PI(self,steps=0.1):\n",
        "    \"\"\"\n",
        "    Calculate the pI (pH value with natural charge on the protein)\n",
        "    steps: int/ float. Spacing between values in pH range\n",
        "    \"\"\"\n",
        "    charges = {'D':-1, 'E':-1, 'H':1, 'C':-1,\n",
        "               'Y':-1, 'K':1, 'R':1, 'N-ter':1, 'C-ter':-1}  #1 means base and -1 means acid\n",
        "    pK={'N-ter':7.5,'C-ter':3.55,'C':9,\n",
        "        'D':4.05,'E':4.45,'H':5.98,'K':10,'R':12,'Y':10}\n",
        "\n",
        "    minPI=[0,10000000000]  #the lowest pH, [pH, charge]\n",
        "    for pH in numpy.arange(0,14,steps): #for each pH from 0 to 14\n",
        "      sum=1/(1+pow(10,pH-pK['N-ter']))-1/(1+pow(10,pK['C-ter']-pH))  #initial the sum to charge of terminal C and N\n",
        "      for aa in self.protein_seq: \n",
        "        if aa in charges.keys(): #is a charged residue\n",
        "          sum+=charges[aa]/(1+pow(10,charges[aa]*(pH-pK[aa])))\n",
        "      if abs(sum)<minPI[1]:  #look for thק pH wich closest to zero\n",
        "        minPI=[pH,sum]\n",
        "    return minPI[0]\n",
        "\n",
        "    \n",
        "  def mass(self):\n",
        "    \"\"\"\n",
        "    Return the protein mass\n",
        "    \"\"\"\n",
        "    weights = {'A':89, 'R':174, 'N':132, 'D':133, 'B':133,\n",
        "               'C':121, 'Q':146, 'E':147, 'Z':147, 'G':75,\n",
        "               'H':155, 'I': 131, 'L':131, 'K':146, 'M':149,\n",
        "               'F':165, 'P':115, 'S':105, 'T':119, 'W':204, \n",
        "               'Y':181, 'V':117}\n",
        "    weight_per_aa=[weights[x] for x in self.protein_seq]  #calc the weight of each aa\n",
        "    return sum(weight_per_aa)\n",
        "    \n",
        "\n",
        "  def numRes(self):\n",
        "    \"\"\"\n",
        "    Return the number of residues in the protein\n",
        "    \"\"\"\n",
        "    return len(self.protein_seq)\n"
      ]
    },
    {
      "cell_type": "code",
      "source": [
        "#running example\n",
        "file = open(partA_file_path, \"a\")\n",
        "for i in SeqIO.parse(partA_file_path, \"fasta\"):\n",
        "  sequence=seq(i.seq)\n",
        "  print(\"ID: %s\" %(i.id))\n",
        "  print(sequence)\n"
      ],
      "metadata": {
        "colab": {
          "base_uri": "https://localhost:8080/"
        },
        "id": "UV8HbxxIgYe3",
        "outputId": "c81f00af-fa48-44d4-860a-97103a035c0c"
      },
      "execution_count": null,
      "outputs": [
        {
          "output_type": "stream",
          "name": "stdout",
          "text": [
            "ID: Human_ubi\n",
            "Sequence: MQIFVKTRKGKTITLEVEPSDTIENVKAKIQDKEGIPPDQQRLIFAGKQLEDGRTLSDYNIQKESTLHLVLRLRGG \n",
            "    PI: 9.1 \n",
            "    Mass: 9975 \n",
            "    Number of Residues: 76 \n",
            " \n",
            "ID: Chimpanzee_ubi\n",
            "Sequence: MQIFVKTLETGKTITLEVEPSDTIENVKAKIQDKEGIPPEEDQQRLIFAGKQLEDGRTLSDYNIQKESTLHLVLRLRGG \n",
            "    PI: 5.1 \n",
            "    Mass: 10346 \n",
            "    Number of Residues: 79 \n",
            " \n",
            "ID: Cow_ubi\n",
            "Sequence: MQIFVKTLTGKTITLEVEPSDTIENVKAKIQDKEGIPPDQQRLIFAGKQLEDGRTLSDYNIQKESTLHLVLRLRGG \n",
            "    PI: 6.8 \n",
            "    Mass: 9905 \n",
            "    Number of Residues: 76 \n",
            " \n",
            "ID: Zebra-fish_ubi\n",
            "Sequence: MQIFVKTLTGKTITLEVEPSDTIENVKAKIQDKDEEGIPPDQQRLIFAGKQLEDGRTLSDYNIQKESTLHLVLRLRGG \n",
            "    PI: 5.3 \n",
            "    Mass: 10185 \n",
            "    Number of Residues: 78 \n",
            " \n"
          ]
        }
      ]
    },
    {
      "cell_type": "markdown",
      "source": [
        "#Part B"
      ],
      "metadata": {
        "id": "nLeKB-BbwJne"
      }
    },
    {
      "cell_type": "code",
      "source": [
        "PI_list = []\n",
        "PI_file = open(partB_file_path, \"a\")  #open the file\n",
        "for s in SeqIO.parse(partB_file_path, \"fasta\"):  #for each sequence\n",
        "  if \"OS=Homo sapiens\" in s.description:  #if its a human protein\n",
        "    peptide = seq(s.seq)\n",
        "    PI_list.append(peptide.PI())  #calc the PI and add to the list\n",
        "\n"
      ],
      "metadata": {
        "id": "01ROmFWSwMrk"
      },
      "execution_count": null,
      "outputs": []
    },
    {
      "cell_type": "code",
      "source": [
        "df = pd.DataFrame(PI_list,columns=[\"PI\"])\n",
        "df.plot.hist(bins=150, title=\"PI distribution in human proteins\")"
      ],
      "metadata": {
        "colab": {
          "base_uri": "https://localhost:8080/",
          "height": 298
        },
        "id": "LHJgNJ8FFX4W",
        "outputId": "b9ca5fbb-a0cb-41d5-af8b-65891dbc0d9f"
      },
      "execution_count": null,
      "outputs": [
        {
          "output_type": "execute_result",
          "data": {
            "text/plain": [
              "<matplotlib.axes._subplots.AxesSubplot at 0x7fba79164f90>"
            ]
          },
          "metadata": {},
          "execution_count": 6
        },
        {
          "output_type": "display_data",
          "data": {
            "image/png": "[encoded data removed]",
            "text/plain": [
              "<Figure size 432x288 with 1 Axes>"
            ]
          },
          "metadata": {
            "needs_background": "light"
          }
        }
      ]
    },
    {
      "cell_type": "markdown",
      "source": [
        "It can be seen that the most common PI values are 6 and 8.5\n",
        "A possible explanation for this is that proteins tend to dissolve the more charge they have\n",
        "Therefore the most common values are different from 7 (the pH in the human body), so that the proteins in the human body can dissolve\n",
        "Of course, the PI can not be extreme - too low or too high"
      ],
      "metadata": {
        "id": "DZTAT2yW5p7d"
      }
    },
    {
      "cell_type": "markdown",
      "source": [
        "#Part C"
      ],
      "metadata": {
        "id": "s-vlnuGKkLyb"
      }
    },
    {
      "cell_type": "code",
      "source": [
        "class TrieNode():\n",
        "  \n",
        "  def __init__(self, l=\"root\"):\n",
        "    self.letter=l\n",
        "    self.children={\"END\":False}\n",
        "  \n",
        "\n",
        "  def insert(self, word):\n",
        "    'recursive function. insert a word to the Trie'\n",
        "\n",
        "    if word==\"\":  #there are no more letters\n",
        "      self.children[\"END\"]=True  #change the value of \"END\", a flag of word ending\n",
        "      return\n",
        "    if word[0] not in self.children.keys():  #the next letter not in the children dict\n",
        "      self.children[word[0]]=TrieNode(word[0])  #create a new node for the next letter\n",
        "    self.children[word[0]].insert(word[1:])  #continue to insert the word\n",
        "\n",
        "    \n",
        "  def is_exist(self, word):\n",
        "    'return TRUE if the word exist in the TRIE, and else if it not'\n",
        "    \n",
        "    if word==\"\":  #there are no more letters\n",
        "      if self.children[\"END\"]:  #and the 'END' flag is TRUE\n",
        "        return True\n",
        "      else:  #the 'END' flag is FALSE so the word doesn't exist\n",
        "        return False\n",
        "    if word[0] not in self.children.keys():  #the next letter soesn't exist in the children dictionary\n",
        "      return False\n",
        "    return self.children[word[0]].is_exist(word[1:])  #continue\n",
        "    \n",
        "\n",
        "\n",
        "#running example\n",
        "a=TrieNode()\n",
        "a.insert(\"sami\")\n",
        "a.insert (\"uzi\")\n",
        "\n",
        "print(a.is_exist(\"uzi\"))\n",
        "print(a.is_exist(\"sami\"))\n",
        "print(a.is_exist(\"samir\"))\n",
        "print(a.is_exist(\"ami\"))\n",
        "print(a.is_exist(\"rami\"))\n",
        "\n",
        "    "
      ],
      "metadata": {
        "colab": {
          "base_uri": "https://localhost:8080/"
        },
        "id": "cKwu7nrzkN-m",
        "outputId": "c5d78c3b-3fac-4219-a22d-f773c9b3973e"
      },
      "execution_count": null,
      "outputs": [
        {
          "output_type": "stream",
          "name": "stdout",
          "text": [
            "True\n",
            "True\n",
            "False\n",
            "False\n",
            "False\n"
          ]
        }
      ]
    }
  ]
}
